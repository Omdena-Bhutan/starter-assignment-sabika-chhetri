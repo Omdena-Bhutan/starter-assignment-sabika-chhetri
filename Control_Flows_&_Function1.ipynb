{
  "nbformat": 4,
  "nbformat_minor": 0,
  "metadata": {
    "colab": {
      "provenance": [],
      "include_colab_link": true
    },
    "kernelspec": {
      "name": "python3",
      "display_name": "Python 3"
    },
    "language_info": {
      "name": "python"
    }
  },
  "cells": [
    {
      "cell_type": "markdown",
      "metadata": {
        "id": "view-in-github",
        "colab_type": "text"
      },
      "source": [
        "<a href=\"https://colab.research.google.com/github/Omdena-Bhutan/starter-assignment-sabika-chhetri/blob/main/Control_Flows_%26_Function1.ipynb\" target=\"_parent\"><img src=\"https://colab.research.google.com/assets/colab-badge.svg\" alt=\"Open In Colab\"/></a>"
      ]
    },
    {
      "cell_type": "markdown",
      "source": [
        "# Assignment:\n",
        "You have a Cinema you are operating giving tickets based on age\n",
        "- Children (Below 12 years) pay 300\n",
        "- Teenager (12 and 17) Pay 500\n",
        "- Adults (18 - 59) Pay 800\n",
        "- Senoirs (60+ ) pay 400\n",
        "\n",
        "Write a python program that will ask\n",
        "1. Ask the user to enter the age\n",
        "2. Uses an if statement to decide the ticket price\n",
        "3. print \"Your ticket price is AMT: X\" where X is the correct price"
      ],
      "metadata": {
        "id": "OZuUoRNj3_U5"
      }
    },
    {
      "cell_type": "code",
      "source": [
        "age = int(input(\"Please enter your age: \"))\n",
        "\n",
        "if age < 12:\n",
        "  price = 300\n",
        "elif age >= 12 and age <= 17:\n",
        "  price = 500\n",
        "elif age >= 18 and age <= 59:\n",
        "  price = 800\n",
        "else: # age >= 60\n",
        "  price = 400\n",
        "\n",
        "print(f\"Your ticket price is AMT: {price}\")"
      ],
      "metadata": {
        "id": "t4GEGdoV3tej"
      },
      "execution_count": null,
      "outputs": []
    },
    {
      "cell_type": "markdown",
      "source": [
        "# Excercise\n",
        "- Create aa program in python that will as someone to enter the range of numbers they want to create and give a range of number between 0 and the number and give only numbers that are divisible by 3"
      ],
      "metadata": {
        "id": "XpSV709w8tfr"
      }
    },
    {
      "cell_type": "code",
      "source": [
        "num = int(input(\"Enter the upper limit of the range: \"))\n",
        "\n",
        "print(f\"Numbers divisible by 3 between 0 and {num}:\")\n",
        "for i in range(num + 1):\n",
        "  if i % 3 == 0:\n",
        "    print(i)"
      ],
      "metadata": {
        "colab": {
          "base_uri": "https://localhost:8080/"
        },
        "id": "hf5kiMszHXR5",
        "outputId": "c2383584-1b79-413c-8f37-8aa18c43a54f"
      },
      "execution_count": null,
      "outputs": [
        {
          "output_type": "stream",
          "name": "stdout",
          "text": [
            "Enter the upper limit of the range: 10\n",
            "Numbers divisible by 3 between 0 and 10:\n",
            "0\n",
            "3\n",
            "6\n",
            "9\n"
          ]
        }
      ]
    },
    {
      "cell_type": "markdown",
      "source": [
        "# Assignment;\n",
        "- Write a python program that;\n",
        "1. Picks a secret number (e.g 7)\n",
        "2. Asks the user to guess the number\n",
        "3. keep asking until the user gueses correclty (Using the while loop)\n",
        "4. Print \"Congratulations, you gazed it right\" when the answer is correct"
      ],
      "metadata": {
        "id": "WD4Glwc__TZ2"
      }
    },
    {
      "cell_type": "code",
      "source": [
        "import random\n",
        "\n",
        "secret_number = random.randint(100, 200)\n",
        "guess = 0\n",
        "\n",
        "print(\"Guess the secret number!\")\n",
        "\n",
        "while guess != secret_number:\n",
        "  try:\n",
        "    guess = int(input(\"Enter your guess: \"))\n",
        "    if guess < secret_number:\n",
        "      print(\"Too low! Try again.\")\n",
        "    elif guess > secret_number:\n",
        "      print(\"Too high! Try again.\")\n",
        "  except ValueError:\n",
        "    print(\"Invalid input. Please enter an integer.\")\n",
        "\n",
        "print(\"Congratulations, you guessed it right!\")"
      ],
      "metadata": {
        "id": "xLp9v4baHoOZ",
        "outputId": "0bb44e34-b879-48dd-aedd-1c56cc6194e3",
        "colab": {
          "base_uri": "https://localhost:8080/"
        }
      },
      "execution_count": null,
      "outputs": [
        {
          "output_type": "stream",
          "name": "stdout",
          "text": [
            "Guess the secret number!\n",
            "Enter your guess: 100\n",
            "Too low! Try again.\n"
          ]
        }
      ]
    },
    {
      "cell_type": "markdown",
      "source": [
        "# Assignment on Functions:\n",
        "Create a calculator\n",
        "\n",
        "Write a python program that:\n",
        "1. Defines a function called calculate_grade(marks) that:\n",
        "  - Takes marks (0-100) as input\n",
        "  - Returns the grade based the this scale\n",
        "    - 90-100 - A\n",
        "    - 80-89 - B\n",
        "    - 70-79 - C\n",
        "    - 60 - 69 - D\n",
        "    - Below 60 - F\n",
        "2. Ask the user to enter their marks\n",
        "3. Call the function and print \"Your grade is X\""
      ],
      "metadata": {
        "id": "x6DVxWwlPZvb"
      }
    },
    {
      "cell_type": "code",
      "source": [
        "def calculate_grade(marks):\n",
        "  \"\"\"\n",
        "  Calculates the letter grade based on the given marks.\n",
        "\n",
        "  Args:\n",
        "    marks: An integer representing the student's marks (0-100).\n",
        "\n",
        "  Returns:\n",
        "    A string representing the corresponding letter grade.\n",
        "  \"\"\"\n",
        "  if 90 <= marks <= 100:\n",
        "    return 'A'\n",
        "  elif 80 <= marks <= 89:\n",
        "    return 'B'\n",
        "  elif 70 <= marks <= 79:\n",
        "    return 'C'\n",
        "  elif 60 <= marks <= 69:\n",
        "    return 'D'\n",
        "  else:\n",
        "    return 'F'"
      ],
      "metadata": {
        "id": "jopstPnPBMr-"
      },
      "execution_count": null,
      "outputs": []
    },
    {
      "cell_type": "code",
      "source": [
        "\n",
        "user_marks_input = input(\"Enter your marks: \")\n",
        "user_marks = int(user_marks_input)\n",
        "\n",
        "grade = calculate_grade(user_marks)\n",
        "print(f\"Your grade is {grade}\")"
      ],
      "metadata": {
        "colab": {
          "base_uri": "https://localhost:8080/"
        },
        "id": "KRzzYsv6Pmg3",
        "outputId": "d8429744-7aa6-455b-f73b-7e13312ce219"
      },
      "execution_count": null,
      "outputs": [
        {
          "output_type": "stream",
          "name": "stdout",
          "text": [
            "Enter your marks: 80\n",
            "Your grade is B\n"
          ]
        }
      ]
    },
    {
      "cell_type": "code",
      "source": [
        "\n",
        "user_marks_input = input(\"Enter your marks: \")\n",
        "user_marks = int(user_marks_input)\n",
        "\n",
        "grade = calculate_grade(user_marks)\n",
        "print(f\"Your grade is {grade}\")"
      ],
      "metadata": {
        "colab": {
          "base_uri": "https://localhost:8080/"
        },
        "id": "P-jD1gs5RsOu",
        "outputId": "2636273c-d5da-4bda-944e-1bbb1f44af50"
      },
      "execution_count": null,
      "outputs": [
        {
          "output_type": "stream",
          "name": "stdout",
          "text": [
            "Enter your marks: -9\n",
            "Your grade is Invalid marks\n"
          ]
        }
      ]
    }
  ]
}