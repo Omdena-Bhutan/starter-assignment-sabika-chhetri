{
  "nbformat": 4,
  "nbformat_minor": 0,
  "metadata": {
    "colab": {
      "provenance": [],
      "authorship_tag": "ABX9TyPhefioEEXi6dy1HaR1VwMI",
      "include_colab_link": true
    },
    "kernelspec": {
      "name": "python3",
      "display_name": "Python 3"
    },
    "language_info": {
      "name": "python"
    }
  },
  "cells": [
    {
      "cell_type": "markdown",
      "metadata": {
        "id": "view-in-github",
        "colab_type": "text"
      },
      "source": [
        "<a href=\"https://colab.research.google.com/github/Omdena-Bhutan/starter-assignment-sabika-chhetri/blob/main/data_structure.ipynb\" target=\"_parent\"><img src=\"https://colab.research.google.com/assets/colab-badge.svg\" alt=\"Open In Colab\"/></a>"
      ]
    },
    {
      "cell_type": "code",
      "execution_count": null,
      "metadata": {
        "id": "PG0_tX6wl942",
        "outputId": "ed8fee48-1215-4ea7-cd3f-06b96dfbd264",
        "colab": {
          "base_uri": "https://localhost:8080/"
        }
      },
      "outputs": [
        {
          "output_type": "stream",
          "name": "stdout",
          "text": [
            "character: Alistair the Brave, Level: 1\n"
          ]
        }
      ],
      "source": [
        "char_profile={\n",
        "    'name': \"Alistair the Brave\",\n",
        "    'level':1,\n",
        "    'health':100,\n",
        "    'mana':50,\n",
        "    'gold':50.75,\n",
        "    'is_alive': True\n",
        "}\n",
        "print(f\"character: {char_profile['name']}, Level: {char_profile['level']}\")\n"
      ]
    },
    {
      "cell_type": "code",
      "source": [
        "char_profile['health'] = 85\n",
        "char_profile['experience']=0\n",
        "print(\"Final Character Profile\", char_profile)\n",
        "print(\"-\"* 50)"
      ],
      "metadata": {
        "id": "xqA5M1ZGstqE",
        "outputId": "0a02a4eb-0ad6-42eb-e4a2-5f1af297a454",
        "colab": {
          "base_uri": "https://localhost:8080/"
        }
      },
      "execution_count": null,
      "outputs": [
        {
          "output_type": "stream",
          "name": "stdout",
          "text": [
            "Final Character Profile {'name': 'Alistair the Brave', 'level': 1, 'health': 85, 'mana': 50, 'gold': 50.75, 'is_alive': True, 'experience': 0}\n",
            "--------------------------------------------------\n"
          ]
        }
      ]
    },
    {
      "cell_type": "code",
      "source": [
        "inventory = ['sword', 'shield', 'health potion']\n",
        "\n",
        "inventory.append('mana potion')\n",
        "\n",
        "inventory.remove('shield')\n",
        "\n",
        "print(\"Inventory Items:\")\n",
        "for item in inventory:\n",
        "    print(\"-\", item)\n",
        "print(\"-\" * 50)"
      ],
      "metadata": {
        "id": "yL07IvhJs0Js",
        "outputId": "15c93872-b451-45f9-84da-b946f6b7deb7",
        "colab": {
          "base_uri": "https://localhost:8080/"
        }
      },
      "execution_count": null,
      "outputs": [
        {
          "output_type": "stream",
          "name": "stdout",
          "text": [
            "Inventory Items:\n",
            "- sword\n",
            "- health potion\n",
            "- mana potion\n",
            "--------------------------------------------------\n"
          ]
        }
      ]
    },
    {
      "cell_type": "code",
      "source": [
        "base_stats = (10, 8, 12)\n",
        "\n",
        "print(\"Tuple is used to store collections of items that should not be modified after creation because they are immutable and won't change\")\n",
        "\n",
        "print(\"Intelligence:\", base_stats[2])\n",
        "\n",
        "print(\"-\" * 50)"
      ],
      "metadata": {
        "id": "84PGIc7at2KW",
        "outputId": "6826e84c-c81f-4ba6-82e9-0bee15d49225",
        "colab": {
          "base_uri": "https://localhost:8080/"
        }
      },
      "execution_count": null,
      "outputs": [
        {
          "output_type": "stream",
          "name": "stdout",
          "text": [
            "Tuple is used to store collections of items that should not be modified after creation because they are immutable and won't change\n",
            "Intelligence: 12\n",
            "--------------------------------------------------\n"
          ]
        }
      ]
    },
    {
      "cell_type": "code",
      "source": [
        "quest_log = {'Defeat the Goblin King', 'Find the Lost Amulet'}\n",
        "\n",
        "quest_log.add('Deliver the Old Scroll')\n",
        "\n",
        "quest_log.add('Defeat the Goblin King')\n",
        "\n",
        "quest_log.remove('Find the Lost Amulet')\n",
        "\n",
        "print(\"Active Quests:\", quest_log)\n",
        "print(\"-\" * 50)"
      ],
      "metadata": {
        "id": "Iil1Cv90t8e_",
        "outputId": "e234265e-d507-4499-977c-5f80e9b4b6e5",
        "colab": {
          "base_uri": "https://localhost:8080/"
        }
      },
      "execution_count": null,
      "outputs": [
        {
          "output_type": "stream",
          "name": "stdout",
          "text": [
            "Active Quests: {'Defeat the Goblin King', 'Deliver the Old Scroll'}\n",
            "--------------------------------------------------\n"
          ]
        }
      ]
    },
    {
      "cell_type": "code",
      "source": [
        "char_sheet = {\n",
        "    'profile': char_profile,\n",
        "    'inventory': inventory,\n",
        "    'stats': base_stats,\n",
        "    'quests': quest_log\n",
        "}\n",
        "\n",
        "print(\"Complete Character Sheet:\")\n",
        "print(char_sheet)"
      ],
      "metadata": {
        "id": "Dsp-py3xuAFN",
        "outputId": "bffcb1d0-d034-4d8c-e7c0-d784d6e41360",
        "colab": {
          "base_uri": "https://localhost:8080/"
        }
      },
      "execution_count": null,
      "outputs": [
        {
          "output_type": "stream",
          "name": "stdout",
          "text": [
            "Complete Character Sheet:\n",
            "{'profile': {'name': 'Alistair the Brave', 'level': 1, 'health': 85, 'mana': 50, 'gold': 50.75, 'is_alive': True, 'experience': 0}, 'inventory': ['sword', 'health potion', 'mana potion'], 'stats': (10, 8, 12), 'quests': {'Defeat the Goblin King', 'Deliver the Old Scroll'}}\n"
          ]
        }
      ]
    }
  ]
}